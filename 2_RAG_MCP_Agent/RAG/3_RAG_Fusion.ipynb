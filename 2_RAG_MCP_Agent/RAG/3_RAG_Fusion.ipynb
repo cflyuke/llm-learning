{
 "cells": [
  {
   "cell_type": "code",
   "execution_count": 1,
   "id": "2906945f",
   "metadata": {},
   "outputs": [],
   "source": [
    "import pickle\n",
    "import os\n",
    "import pandas as pd\n",
    "\n",
    "output_dir = \"outputs\"\n",
    "splitted_docs = pickle.load(open(os.path.join(output_dir, \"split_docs.pkl\"), 'rb'))\n",
    "qa_df = pd.read_json(os.path.join(output_dir, \"qa.json\"), lines=True)"
   ]
  },
  {
   "cell_type": "code",
   "execution_count": 2,
   "id": "c5da9375",
   "metadata": {},
   "outputs": [
    {
     "name": "stderr",
     "output_type": "stream",
     "text": [
      "/Users/yuke/github/llm-learning/langchain/.venv/lib/python3.12/site-packages/tqdm/auto.py:21: TqdmWarning: IProgress not found. Please update jupyter and ipywidgets. See https://ipywidgets.readthedocs.io/en/stable/user_install.html\n",
      "  from .autonotebook import tqdm as notebook_tqdm\n"
     ]
    }
   ],
   "source": [
    "from langchain.embeddings import init_embeddings\n",
    "from langchain.chat_models import init_chat_model\n",
    "from langchain_chroma import Chroma\n",
    "import dotenv\n",
    "import os\n",
    "dotenv.load_dotenv()\n",
    "os.environ[\"OPENAI_API_KEY\"] = os.getenv(\"API_KEY\", \"\")\n",
    "os.environ[\"OPENAI_BASE_URL\"] = os.getenv(\"BASE_URL\", \"\")\n",
    "\n",
    "embeddings = init_embeddings(\n",
    "    model=\"openai:text-embedding-3-small\",\n",
    ")\n",
    "\n",
    "vector_db = Chroma.from_documents(\n",
    "    documents=splitted_docs,\n",
    "    persist_directory= os.path.join(output_dir, 'chromadb_v1'),\n",
    "    embedding=embeddings\n",
    ")\n",
    "retriver = vector_db.as_retriever(search_kwargs={'k': 8})\n",
    "llm = init_chat_model(\n",
    "    model='openai:gpt-4o-mini',\n",
    "    temperature = 0.8,\n",
    "    top_p = 0.85\n",
    ")\n"
   ]
  },
  {
   "cell_type": "code",
   "execution_count": 3,
   "id": "ee8cc487",
   "metadata": {},
   "outputs": [
    {
     "data": {
      "text/plain": [
       "['2024年中国经济展望',\n",
       " '2024年中国的消费市场趋势如何？',\n",
       " '2024年中国的出口前景会受到哪些因素影响？',\n",
       " '2024年中国科技创新对经济增长的贡献如何？']"
      ]
     },
     "execution_count": 3,
     "metadata": {},
     "output_type": "execute_result"
    }
   ],
   "source": [
    "from langchain_core.output_parsers import PydanticOutputParser\n",
    "from langchain_core.prompts import PromptTemplate\n",
    "from pydantic import BaseModel, Field\n",
    "from typing_extensions import List\n",
    "\n",
    "class Query(BaseModel):\n",
    "    queries: List[str] = Field([], description=\"生成三个类似的问题, 并且把原始问题放在最开始，即四个字符串的列表\")\n",
    "\n",
    "query_parser = PydanticOutputParser(pydantic_object=Query)\n",
    "\n",
    "query_prompt = PromptTemplate.from_template(\n",
    "    template=\"给你一个问题：{query}, 请生成三个类似的问题，并且按照这个结构{format}输出答案\",\n",
    "    partial_variables={'format': query_parser.get_format_instructions()}\n",
    ")\n",
    "\n",
    "def get_list(response):\n",
    "    return response.queries\n",
    "\n",
    "chain = (\n",
    "    query_prompt\n",
    "    | llm\n",
    "    | query_parser\n",
    "    | get_list\n",
    ")\n",
    "\n",
    "chain.invoke({'query': '2024年中国经济展望'})\n"
   ]
  },
  {
   "cell_type": "code",
   "execution_count": 11,
   "id": "c2a543bf",
   "metadata": {},
   "outputs": [
    {
     "name": "stderr",
     "output_type": "stream",
     "text": [
      "100%|██████████| 401/401 [02:01<00:00,  3.29it/s]\n"
     ]
    }
   ],
   "source": [
    "from concurrent.futures import ThreadPoolExecutor, as_completed\n",
    "from tqdm.auto import tqdm\n",
    "from langchain_core.load import loads, dumps\n",
    "from collections import defaultdict\n",
    "import time\n",
    "\n",
    "def reciprocal_rank_fusion(results : list[list], k = 60):\n",
    "    fused_scores = defaultdict(float)\n",
    "    for docs in results:\n",
    "        for rank, doc in enumerate(docs):\n",
    "            temp = dumps(doc)\n",
    "            fused_scores[temp] += 1 /(rank + k)\n",
    "    reranked_results = [\n",
    "        (loads(doc), score)\n",
    "        for doc, score in sorted(fused_scores.items(), key=lambda x: x[1], reverse=True)\n",
    "    ]\n",
    "    return reranked_results[:8]\n",
    "\n",
    "num_retrieve = 8\n",
    "hit_state_data = []\n",
    "retriver = vector_db.as_retriever(search_kwargs={'k' : 4})\n",
    "\n",
    "def process_row(row):\n",
    "    question = row['question']\n",
    "    true_uuid = row['uuid']\n",
    "    retries = 3\n",
    "    delay = 1\n",
    "    for i in range(retries):\n",
    "        try:\n",
    "            query_list = chain.invoke(question)\n",
    "            docs_list = retriver.batch(query_list)\n",
    "            reranked_results = reciprocal_rank_fusion(docs_list)\n",
    "            uuids = [doc.metadata['uuid'] for doc, score in reranked_results]\n",
    "            hits = []\n",
    "            for i in range(1, num_retrieve + 1):\n",
    "                hits.append({\n",
    "                    'question': question,\n",
    "                    'top_k': i,\n",
    "                    'hit': true_uuid in uuids[:i]\n",
    "                })\n",
    "            return hits\n",
    "        except Exception as exc:\n",
    "            if i < retries - 1:\n",
    "                time.sleep(delay)\n",
    "                delay *= 2\n",
    "            else:\n",
    "                raise exc     \n",
    "    return []\n",
    "\n",
    "with ThreadPoolExecutor(max_workers=16) as excecutor:\n",
    "    futures = [excecutor.submit(process_row, row) for idx, row in qa_df.iterrows()]\n",
    "    for future in tqdm(as_completed(futures), total=len(qa_df)):\n",
    "        hit_state_data.extend(future.result())\n",
    "\n",
    "rag_fusion_df = pd.DataFrame(hit_state_data)"
   ]
  },
  {
   "cell_type": "code",
   "execution_count": 12,
   "id": "5e521ab1",
   "metadata": {},
   "outputs": [
    {
     "name": "stdout",
     "output_type": "stream",
     "text": [
      "    top_k       hit     dataset\n",
      "0       1  0.463840  rag_fusion\n",
      "1       2  0.653367  rag_fusion\n",
      "2       3  0.733167  rag_fusion\n",
      "3       4  0.795511  rag_fusion\n",
      "4       5  0.835411  rag_fusion\n",
      "5       6  0.850374  rag_fusion\n",
      "6       7  0.862843  rag_fusion\n",
      "7       8  0.867830  rag_fusion\n",
      "8       1  0.405000    baseline\n",
      "9       2  0.580000    baseline\n",
      "10      3  0.665000    baseline\n",
      "11      4  0.715000    baseline\n",
      "12      5  0.755000    baseline\n",
      "13      6  0.795000    baseline\n",
      "14      7  0.840000    baseline\n",
      "15      8  0.855000    baseline\n"
     ]
    }
   ],
   "source": [
    "rag_fusion_hit = rag_fusion_df.groupby('top_k')['hit'].mean().reset_index()\n",
    "data = [\n",
    "    {'top_k': 1, 'hit': 0.405},\n",
    "    {'top_k': 2, 'hit': 0.580},\n",
    "    {'top_k': 3, 'hit': 0.665},\n",
    "    {'top_k': 4, 'hit': 0.715},\n",
    "    {'top_k': 5, 'hit': 0.755},\n",
    "    {'top_k': 6, 'hit': 0.795},\n",
    "    {'top_k': 7, 'hit': 0.840},\n",
    "    {'top_k': 8, 'hit': 0.855}\n",
    "]\n",
    "base = pd.DataFrame(data)\n",
    "rag_fusion_hit['dataset'] = 'rag_fusion'\n",
    "base['dataset'] = 'baseline'\n",
    "\n",
    "concat_df = pd.concat([rag_fusion_hit,base], ignore_index=True)\n",
    "print(concat_df)\n"
   ]
  },
  {
   "cell_type": "code",
   "execution_count": 13,
   "id": "ae29a112",
   "metadata": {},
   "outputs": [
    {
     "data": {
      "text/plain": [
       "<Axes: xlabel='top_k', ylabel='hit'>"
      ]
     },
     "execution_count": 13,
     "metadata": {},
     "output_type": "execute_result"
    },
    {
     "data": {
      "image/png": "[encoded data removed]",
      "text/plain": [
       "<Figure size 640x480 with 1 Axes>"
      ]
     },
     "metadata": {},
     "output_type": "display_data"
    }
   ],
   "source": [
    "import seaborn as sns\n",
    "sns.barplot(data = concat_df, hue='dataset', x='top_k', y='hit')"
   ]
  }
 ],
 "metadata": {
  "kernelspec": {
   "display_name": "langchain",
   "language": "python",
   "name": "python3"
  },
  "language_info": {
   "codemirror_mode": {
    "name": "ipython",
    "version": 3
   },
   "file_extension": ".py",
   "mimetype": "text/x-python",
   "name": "python",
   "nbconvert_exporter": "python",
   "pygments_lexer": "ipython3",
   "version": "3.12.9"
  }
 },
 "nbformat": 4,
 "nbformat_minor": 5
}
