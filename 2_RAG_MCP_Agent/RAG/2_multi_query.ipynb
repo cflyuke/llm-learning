{
 "cells": [
  {
   "cell_type": "code",
   "execution_count": 1,
   "id": "c33fda56",
   "metadata": {},
   "outputs": [],
   "source": [
    "import pickle\n",
    "import os\n",
    "import pandas as pd\n",
    "\n",
    "output_dir = \"outputs\"\n",
    "splitted_docs = pickle.load(open(os.path.join(output_dir, \"split_docs.pkl\"), 'rb'))\n",
    "qa_df = pd.read_json(os.path.join(output_dir, \"qa.json\"), lines=True)"
   ]
  },
  {
   "cell_type": "code",
   "execution_count": 2,
   "id": "c0d69602",
   "metadata": {},
   "outputs": [
    {
     "name": "stderr",
     "output_type": "stream",
     "text": [
      "/Users/yuke/github/llm-learning/langchain/.venv/lib/python3.12/site-packages/tqdm/auto.py:21: TqdmWarning: IProgress not found. Please update jupyter and ipywidgets. See https://ipywidgets.readthedocs.io/en/stable/user_install.html\n",
      "  from .autonotebook import tqdm as notebook_tqdm\n"
     ]
    }
   ],
   "source": [
    "from langchain.embeddings import init_embeddings\n",
    "from langchain.chat_models import init_chat_model\n",
    "from langchain_chroma import Chroma\n",
    "import dotenv\n",
    "import os\n",
    "dotenv.load_dotenv()\n",
    "os.environ[\"OPENAI_API_KEY\"] = os.getenv(\"API_KEY\", \"\")\n",
    "os.environ[\"OPENAI_BASE_URL\"] = os.getenv(\"BASE_URL\", \"\")\n",
    "\n",
    "embeddings = init_embeddings(\n",
    "    model=\"openai:text-embedding-3-small\",\n",
    ")\n",
    "\n",
    "vector_db = Chroma.from_documents(\n",
    "    documents=splitted_docs,\n",
    "    persist_directory= os.path.join(output_dir, 'chromadb_v1'),\n",
    "    embedding=embeddings\n",
    ")\n",
    "retriver = vector_db.as_retriever(search_kwargs={'k': 8})\n",
    "llm = init_chat_model(\n",
    "    model='openai:gpt-4o-mini',\n",
    "    temperature = 0.8,\n",
    "    top_p = 0.85\n",
    ")\n"
   ]
  },
  {
   "cell_type": "code",
   "execution_count": 5,
   "id": "ea1989af",
   "metadata": {},
   "outputs": [
    {
     "data": {
      "text/plain": [
       "[Document(id='defdb877-7a3e-4b75-936b-5402910dde41', metadata={'uuid': '35e5de15-d070-498f-8ffc-447971614d05'}, page_content='研究院\\n全球经济金融展望报告\\n要点\\n2024年年报（总第 57期） 报告日期：2023年 12月 12日\\n● 2023 年全球经济增长动力持续回落，各国复苏分化，\\n发达经济体增速明显放缓，新兴经济体整体表现稳定。\\n全球贸易增长乏力，各国生产景气度逐渐回落，内需\\n对经济的拉动作用减弱。欧美央行货币政策紧缩态势\\n放缓，美元指数高位震荡后走弱，全球股市表现总体\\n好于预期，但区域分化明显。高利率环境抑制债券融\\n资需求，债券违约风险持续上升。\\n● 展望 2024 年，预计全球经济复苏将依旧疲软，主要\\n经济体增长态势和货币政策走势将进一步分化。欧美\\n央行大概率结束本轮紧缩货币周期，美元指数将逐步\\n走弱，流向新兴经济体的跨境资本将增加。国际原油\\n市场短缺格局或延续，新能源发展成为重点。\\n● 海湾六国经济发展与投资前景、高利率和高债务对\\n美国房地产市场脆弱性的影响等热点问题值得关注。\\n中国银行研究院\\n全球经济金融研究课题组\\n组 长： 陈卫东\\n副组长： 钟 红\\n廖淑萍\\n成 员： 边卫红\\n熊启跃\\n王有鑫\\n曹鸿宇\\n李颖婷\\n王宁远\\n初 晓\\n章凯莉\\n黄小军（纽约）\\n陆晓明（纽约）\\n黄承煜（纽约）\\n宋达志（伦敦）\\n李振龙（伦敦）\\n张传捷（伦敦）\\n刘冰彦（法兰克福）\\n温颍坤（法兰克福）\\n张明捷（法兰克福）\\n王 哲（东京）\\n李 彧（香港）\\n黎永康（香港）\\n联系人：王有鑫\\n电 话：010-66594127\\n邮 件：wangyouxin_hq@bank-of-china.com\\n主要经济体 GDP 增速变化趋势（%）\\n资料来源：IMF，中国银行研究院'),\n",
       " Document(id='c8df6d37-a2be-4a94-94b9-91c3c7492d10', metadata={'uuid': '6f3ee073-e21b-455d-b89b-b188aa3a284c'}, page_content='场仍处于下行周期的早期阶段。基于历史经验，叠加长期结构性因素，商业房\\n地产的此轮下行周期可能持续更长时间。第四，美国大型银行更具有能力抵御\\n严重衰退和房地产市场萎缩的冲击，而中小型银行面临的损失可能更大。\\n免责声明\\n本研究报告由中国银行研究院撰写，研究报告中所引用信息均来自公开资料。\\n本研究报告中包含的观点或估计仅代表作者迄今为止的判断，它们不一定反映中国银行的观点。中国\\n银行研究院可以不经通知加以改变，且没有对此报告更新、修正或修改的责任。\\n本研究报告内容及观点仅供参考，不构成任何投资建议。对于本报告所提供信息所导致的任何直接的\\n或者间接的投资盈亏后果不承担任何责任。\\n本研究报告版权仅为中国银行研究院所有，未经书面许可，任何机构和个人不得以任何形式翻版、复\\n制和发布。如引用发布，需注明出处为中国银行研究院，且不得对本报告进行有悖原意的引用、删节和修\\n改。中国银行研究院保留对任何侵权行为和有悖报告原意的引用行为进行追究的权利。\\n研究院\\n中国北京市复兴门内大街1号\\n邮编：100818\\n电话：+86-10-66592780\\n传真：+86-10-66594040'),\n",
       " Document(id='84728c8c-9946-44fe-91a1-04874507ee1a', metadata={'uuid': '40dc7d18-0e75-4784-9841-f2ae3493c92c'}, page_content='\\n\\n\\n全球经济复苏疲软，货币政策取向分化\\n——中国银行全球经济金融展望报告（2024年）\\n2023 年，全球经济增长动力持续回落。分区域看，各国复苏存在较大差异，\\n发达经济体增速明显放缓，新兴经济体增速与2022 年大致持平。生产端，全球\\n供应链持续恢复，但生产景气度逐渐回落。需求端，内需对经济的拉动作用逐\\n渐减弱，各国国内投资和跨境投资均持续承压；全球货物贸易量指数和价格指\\n数下行，主要经济体出口贸易同比增速下降。欧美央行货币政策延续收紧态势，\\n但步伐整体放缓；金融体系短期资金运行发生结构性变化，“去存款化”特征\\n突出。美元指数高位震荡后走弱，全球股市表现总体好于预期，但区域分化显\\n著。高利率环境抑制债券融资需求，债券违约风险持续上升，美国政府债务可\\n持续性问题引发市场关注。展望2024 年，预计全球经济复苏将依旧疲软，主要\\n经济体增长态势和货币政策将进一步分化。欧美央行大概率结束本轮加息周期，\\n日本央行可能退出负利率政策，跨境资本回流美国趋势将放缓，流向新兴经济\\n体的资金将增加。美元指数将逐步走弱，新兴经济体货币汇率有望回升。国际\\n原油市场短缺格局或延续，新能源发展成为重点。本期报告分别对海湾六国经\\n济发展与投资前景、高利率和高债务对美国房地产市场脆弱性的影响两个专题\\n展开分析。\\n一、全球经济回顾与展望\\n（一）全球经济将在波动分化中筑底复苏\\n2023年，全球经济增长动力持续回落，经济增速连续两年下降。受地缘政\\n治冲突、高通胀、货币政策紧缩等因素影响，全球经济下行压力加大。预计2023\\n年全球GDP 增速为2.7%（市场汇率法），较2022 年下降0.3 个百分点。'),\n",
       " Document(id='de985804-3474-428c-bda6-4c8af0c198d1', metadata={'uuid': '543855e3-f9ee-4ca4-bacc-b83bcde87da1'}, page_content='\\n\\n图15：美联储资产规模变化（亿美元）\\n资料来源：美联储，中国银行研究院\\n专栏 3：美国金融危机监测分析\\n美国金融危机风险指标显示，美国金融市场整体仍然处于不稳定区域，但金融危机风险微降。2023\\n年 1-11月，美国金融危机风险指标（ROFCI）的月度平均值从 2022 年的 42.83微降至 42.33，仍然处\\n于不稳定区域，但是月度指标及季度平均值在全年呈波动下降趋势。\\n图：美国金融危机风险指标（ROFCI）走势\\n资料来源：Wind，中国银行研究院\\n2023年影响金融稳定性的主要因素包括：通胀维持高位、美联储持续大幅收紧货币政策、地缘冲\\n突等。主要央行同步加息应对通胀，导致全球经济增长减速。美国地区性银行倒闭事件导致流动性紧\\n张。年内风险因素和金融稳定性状态发生了一系列结构性转换。2023 年一季度，ROFCI 月均值在不稳\\n定区域达45.7，触及全年最高值。美联储为应对通胀持续提高利率，银行业，特别是中小银行在利率\\n大幅上升环境下承受更多利率风险、资产负债表错配风险、市场风险和流动性风险。硅谷银行等三家\\n地区性银行倒闭成为典型案例。此外，股市和银行业股票波动性上升，投资者信心下降，国债市场波'),\n",
       " Document(id='04f649ad-2c78-46bb-9cc8-d03d312721f8', metadata={'uuid': 'bf836319-5eda-4dab-9fa2-02c0140d2ce1'}, page_content='图19：美国联邦基金目标利率与全球MSCI指数\\n资料来源：Wind，中国银行研究院\\n表3：全球主要股指概览\\n注：涨跌幅区间为 2023 年1 月 1 日至 2023 年11 月 15 日，收盘价和市盈\\n率为2023 年11 月15 日。\\n资料来源：Wind，中国银行研究院'),\n",
       " Document(id='578e1855-8c21-4be3-9cf9-831427b5d02d', metadata={'uuid': 'c793e69c-7a23-4939-835c-8bd133a105fb'}, page_content='\\n\\n体国债收益率出现较大幅度下跌。当前，国债收益率大幅波动成为全球金融市\\n场重要风险点。2023 年，在全球高利率环境下，债券违约风险持续上升。8 月，\\n惠誉下调了美国主权信用评级；11 月，穆迪下调了美国主权信用评级展望。2023\\n年1 月至10 月，全球债券违约规模达986.73 亿美元，为2008 年以来的高点，\\n违约风险释放较为集中的行业包括房地产、金融业等。\\n展望2024 年，全球债券市场将呈现以下特征。\\n1.高利率环境债券融资仍将低迷，低利率货币的债券融资功能增强\\n2024 年，主要经济体将维持高利率环境，美元、欧元等主要国际货币的融\\n资成本保持高位，将抑制微观主体债券融资需求，预计主要货币发行国的债券\\n融资规模将呈现低增长或负增长态势。受美欧银行业危机及全球实体经济表现\\n低迷影响，债券融资难度进一步上升，住房按揭贷款支持证券受房地产市场低\\n迷影响仍将保持收缩态势。部分低利率货币的债券融资功能有望增强。日元和\\n人民币在国际金融市场的融资功能明显上升。人民币计价的“熊猫债”和“点\\n心债”发行规模强劲增长。\\n2.国债收益率将维持高位，全球债券违约风险继续释放\\n2024 年，美联储、欧洲央行、英格兰银行将继续推进资产负债表缩减计划，\\n推高相关债券的收益率，市场投资者结构也将发生较大变化。长期以来，中央\\n银行和商业银行资金被证明在债券市场发挥着重要“稳定器”作用。中央银行\\n缩表、减持债券后，各类投资基金、保险机构、外国储备资产管理者将成为重\\n要替代资金来源，市场投资者结构的变化将对债券市场稳定性产生重要影响。\\n未来随着美欧加大国债发行力度，将进一步增加财政体系的脆弱性。此外，部\\n分发展中国家拥有大量美元债务，地缘政治环境变化使其对外偿付能力受损，\\n发生主权债务危机的概率大大提升。'),\n",
       " Document(id='92a63221-b07d-4133-8e1f-5894c0c98db8', metadata={'uuid': '5fb20f6b-b598-4d41-b013-46f9a8657837'}, page_content='\\n\\n表1：2024年全球主要经济体关键指标预测（%）\\n地区 年\\n国家\\nGDP 增长率 CPI 涨幅 失业率\\n2022 2023E 2024F 2022 2023E 2024F 2022 2023E 2024F\\n美洲\\n美国 1.9 2.4 1.7 6.4 3.0 2.6 3.6 3.6 3.8\\n加拿大 2.5 1.3 1.6 6.6 2.7 2.1 5.3 5.5 6.3\\n墨西哥 3.1 3.2 2.1 7.8 4.5 3.2 3.3 2.9 3.1\\n巴西 2.9 3.1 1.5 5.8 4.9 3.9 9.3 8.3 8.2\\n智利 2.4 -0.5 1.6 12.8 4.5 3.0 7.9 8.8 9.0\\n阿根廷 5.2 -2.5 2.8 94.8 135.7 69.5 6.8 7.4 7.2\\n亚太\\n中国 3.0 5.3 5.0 2.0 0.3 1.1 5.5 5.3 5.2\\n日本 0.9 2.0 1.3 3.9 2.7 2.6 2.6 2.5 2.3\\n澳大利亚 3.7 1.8 1.2 7.8 4.7 3.4 3.7 3.7 4.3\\n印度 7.2 6.3 6.3 6.2 4.9 4.4 — — —\\n韩国 2.6 1.4 2.2 5.0 2.9 2.0 2.9 2.7 3.2\\n印尼 5.3 5.0 5.0 5.5 2.3 2.5 5.9 5.3 5.2\\n欧非\\n欧元区 3.4 0.6 0.9 9.2 3.3 2.7 6.7 6.6 6.5\\n英国 4.3 0.3 0.5 10.5 5.2 2.4 3.7 4.2 4.6\\n俄罗斯 -2.1 2.2 1.1 12.2 5.7 5.0 3.9 3.3 3.1\\n土耳其 5.5 4.0 3.0 64.3 64.0 54.3 10.3 9.9 10.1\\n尼日利亚 3.3 2.9 3.1 21.3 30.6 15.4 — — —\\n南非 1.9 0.9 1.8 7.4 5.2 4.5 33.5 32.8 32.8\\n全球 3.0 2.7 2.5 8.9 6.4 5.1 — — —\\n注：E 为估计值，F 为预测值；全球GDP 增速为市场汇率法计算结果。\\n资料来源：中国银行研究院\\n二、国际金融回顾与展望\\n2023 年以来，跨境资本回流美国速度放缓，美元指数从高位回落，国际市\\n场融资成本提高，显著抑制债券市场融资功能（图14）。'),\n",
       " Document(id='55c7a9d5-e084-43a4-af58-f6cc1dcc7deb', metadata={'uuid': 'ee08ede6-decf-44a5-bdf7-eb811202ac4a'}, page_content='\\n\\n展望2024 年，全球股票市场走势将呈现以下特征。\\n1.美国股票市场上行空间有限，新兴经济体股市值得关注\\n2024 年，受美国通胀回落、美联储暂停加息以及企业盈利能力稳步提升等\\n因素支撑，美国股票市场将呈现上扬态势。但考虑到美股股价虚高等因素，后\\n续美股上行空间相对有限。新兴经济体稳步复苏，未来反弹空间值得期待。\\n2.科技股仍是投资热点，绿色能源受到投资青睐\\n2024 年，全球股市将延续由科技股领涨的结构性行情。截至 2023 年 11 月\\n15 日，信息科技 MSCI 指数涨幅高达41.1%，远高于电信业务（31.5%）、非日\\n常消费品（21.5%）等板块（图20）。其中，以人工智能、大数据等新兴行业为\\n代表的科技公司或将受到广泛关注。随着企业盈利能力逐渐增强以及科技水平\\n不断发展，科技股依然是投资者热衷的板块。此外，在全球投资者绿色环保意\\n识显著增强的背景下，绿色能源板块崛起或成为全球股市投资者关注的亮点。\\n图 20：全球 MSCI一级行业指数涨跌幅（%）\\n注：涨跌幅区间为 2023 年1 月 1 日至 2023 年11 月 15 日，收盘价和市盈\\n率为2023 年11 月15 日。\\n资料来源：Wind，中国银行研究院')]"
      ]
     },
     "execution_count": 5,
     "metadata": {},
     "output_type": "execute_result"
    }
   ],
   "source": [
    "from langchain_core.output_parsers import PydanticOutputParser\n",
    "from pydantic import BaseModel, Field\n",
    "from typing_extensions import List\n",
    "from langchain_core.prompts import PromptTemplate\n",
    "class Query(BaseModel):\n",
    "    queries: List[str] = Field([], description=\"请生成三个类似的回答, 并且把原始问题放在最开始，即四个字符串的列表\")\n",
    "\n",
    "query_parser = PydanticOutputParser(pydantic_object=Query)\n",
    "\n",
    "query_prompt = PromptTemplate.from_template(\n",
    "    template=\"给你一个问题：{query}, 请生成三个类似的问题，并且按照这个结构{format}输出答案\",\n",
    "    partial_variables={'format': query_parser.get_format_instructions()}\n",
    ")\n",
    "\n",
    "def format_query(responses):\n",
    "    queries = list(responses.queries)\n",
    "    return ' '.join(query for query in queries)\n",
    "\n",
    "chain = (\n",
    "    query_prompt\n",
    "    | llm \n",
    "    | query_parser\n",
    "    | format_query\n",
    "    | retriver\n",
    ")\n",
    "\n",
    "chain.invoke({'query': '报告的发布机构是什么？'})"
   ]
  },
  {
   "cell_type": "code",
   "execution_count": 10,
   "id": "f3bd77a2",
   "metadata": {},
   "outputs": [
    {
     "name": "stderr",
     "output_type": "stream",
     "text": [
      "100%|██████████| 401/401 [02:57<00:00,  2.25it/s]\n"
     ]
    },
    {
     "data": {
      "text/html": [
       "<div>\n",
       "<style scoped>\n",
       "    .dataframe tbody tr th:only-of-type {\n",
       "        vertical-align: middle;\n",
       "    }\n",
       "\n",
       "    .dataframe tbody tr th {\n",
       "        vertical-align: top;\n",
       "    }\n",
       "\n",
       "    .dataframe thead th {\n",
       "        text-align: right;\n",
       "    }\n",
       "</style>\n",
       "<table border=\"1\" class=\"dataframe\">\n",
       "  <thead>\n",
       "    <tr style=\"text-align: right;\">\n",
       "      <th></th>\n",
       "      <th>question</th>\n",
       "      <th>top_k</th>\n",
       "      <th>hit</th>\n",
       "    </tr>\n",
       "  </thead>\n",
       "  <tbody>\n",
       "    <tr>\n",
       "      <th>1630</th>\n",
       "      <td>美联储为了应对通胀采取了什么措施？</td>\n",
       "      <td>7</td>\n",
       "      <td>1</td>\n",
       "    </tr>\n",
       "    <tr>\n",
       "      <th>2604</th>\n",
       "      <td>COP28大会对中东国家的发展有何影响？</td>\n",
       "      <td>5</td>\n",
       "      <td>1</td>\n",
       "    </tr>\n",
       "    <tr>\n",
       "      <th>1635</th>\n",
       "      <td>美国金融市场的整体状态是什么？</td>\n",
       "      <td>4</td>\n",
       "      <td>1</td>\n",
       "    </tr>\n",
       "    <tr>\n",
       "      <th>2756</th>\n",
       "      <td>习近平主席在2022年12月的峰会上提出了什么样的伙伴关系概念？</td>\n",
       "      <td>5</td>\n",
       "      <td>1</td>\n",
       "    </tr>\n",
       "    <tr>\n",
       "      <th>2447</th>\n",
       "      <td>黄金的避险功能将在2024年如何表现？</td>\n",
       "      <td>8</td>\n",
       "      <td>1</td>\n",
       "    </tr>\n",
       "    <tr>\n",
       "      <th>2159</th>\n",
       "      <td>绿色能源板块在2024年受到怎样的关注？</td>\n",
       "      <td>8</td>\n",
       "      <td>1</td>\n",
       "    </tr>\n",
       "    <tr>\n",
       "      <th>2574</th>\n",
       "      <td>2022年海湾六国的实际GDP增速是多少？</td>\n",
       "      <td>7</td>\n",
       "      <td>1</td>\n",
       "    </tr>\n",
       "    <tr>\n",
       "      <th>1253</th>\n",
       "      <td>菲律宾和印度尼西亚的居民消费支出同比增长了多少？</td>\n",
       "      <td>6</td>\n",
       "      <td>1</td>\n",
       "    </tr>\n",
       "    <tr>\n",
       "      <th>2042</th>\n",
       "      <td>日本股市在2023年的表现如何？</td>\n",
       "      <td>3</td>\n",
       "      <td>1</td>\n",
       "    </tr>\n",
       "    <tr>\n",
       "      <th>991</th>\n",
       "      <td>欧盟委员会在2023年10月对中国电动汽车做了什么决定？</td>\n",
       "      <td>8</td>\n",
       "      <td>1</td>\n",
       "    </tr>\n",
       "  </tbody>\n",
       "</table>\n",
       "</div>"
      ],
      "text/plain": [
       "                              question  top_k  hit\n",
       "1630                 美联储为了应对通胀采取了什么措施？      7    1\n",
       "2604              COP28大会对中东国家的发展有何影响？      5    1\n",
       "1635                   美国金融市场的整体状态是什么？      4    1\n",
       "2756  习近平主席在2022年12月的峰会上提出了什么样的伙伴关系概念？      5    1\n",
       "2447               黄金的避险功能将在2024年如何表现？      8    1\n",
       "2159              绿色能源板块在2024年受到怎样的关注？      8    1\n",
       "2574             2022年海湾六国的实际GDP增速是多少？      7    1\n",
       "1253          菲律宾和印度尼西亚的居民消费支出同比增长了多少？      6    1\n",
       "2042                  日本股市在2023年的表现如何？      3    1\n",
       "991       欧盟委员会在2023年10月对中国电动汽车做了什么决定？      8    1"
      ]
     },
     "execution_count": 10,
     "metadata": {},
     "output_type": "execute_result"
    }
   ],
   "source": [
    "from tqdm.auto import tqdm\n",
    "from concurrent.futures import ThreadPoolExecutor, as_completed\n",
    "top_k_arr = list(range(1, 9))\n",
    "hit_state_data = []\n",
    "\n",
    "def process_row(row):\n",
    "    question = row['question']\n",
    "    true_uuid = row['uuid']\n",
    "    chunks = chain.invoke({'query': question})\n",
    "    retrive_uuids = [doc.metadata['uuid'] for doc in chunks]\n",
    "    row_results = []\n",
    "    for k in range(1, 9):\n",
    "        row_results.append({\n",
    "            'question': question,\n",
    "            'top_k': k,\n",
    "            'hit': int(true_uuid in retrive_uuids[:k])\n",
    "        }) \n",
    "    return row_results\n",
    "\n",
    "with ThreadPoolExecutor(max_workers=16) as excecutor:\n",
    "    futures = [excecutor.submit(process_row, row) for idx, row in qa_df.iterrows()]\n",
    "    for future in tqdm(as_completed(futures), total=len(qa_df)):\n",
    "        try:\n",
    "            hit_state_data.extend(future.result())\n",
    "        except Exception as exc:\n",
    "            print(f\"异常：{exc}\")\n",
    "\n",
    "hit_state_df = pd.DataFrame(hit_state_data)\n",
    "hit_state_df.sample(10)"
   ]
  },
  {
   "cell_type": "markdown",
   "id": "a3987590",
   "metadata": {},
   "source": []
  },
  {
   "cell_type": "code",
   "execution_count": 12,
   "id": "bb521517",
   "metadata": {},
   "outputs": [
    {
     "name": "stdout",
     "output_type": "stream",
     "text": [
      "   top_k       hit      dataset\n",
      "0      1  0.531172  multi_query\n",
      "1      2  0.698254  multi_query\n",
      "2      3  0.763092  multi_query\n",
      "3      4  0.825436  multi_query\n",
      "4      5  0.852868  multi_query\n",
      "5      6  0.882793  multi_query\n",
      "6      7  0.900249  multi_query\n",
      "7      8  0.907731  multi_query\n",
      "   top_k    hit   dataset\n",
      "0      1  0.405  baseline\n",
      "1      2  0.580  baseline\n",
      "2      3  0.665  baseline\n",
      "3      4  0.715  baseline\n",
      "4      5  0.755  baseline\n",
      "5      6  0.795  baseline\n",
      "6      7  0.840  baseline\n",
      "7      8  0.855  baseline\n"
     ]
    },
    {
     "data": {
      "text/plain": [
       "<Axes: xlabel='top_k', ylabel='hit'>"
      ]
     },
     "execution_count": 12,
     "metadata": {},
     "output_type": "execute_result"
    },
    {
     "data": {
      "image/png": "[encoded data removed]",
      "text/plain": [
       "<Figure size 640x480 with 1 Axes>"
      ]
     },
     "metadata": {},
     "output_type": "display_data"
    }
   ],
   "source": [
    "temp = hit_state_df.groupby('top_k')['hit'].mean().reset_index()\n",
    "data = [\n",
    "    {'top_k': 1, 'hit': 0.405},\n",
    "    {'top_k': 2, 'hit': 0.580},\n",
    "    {'top_k': 3, 'hit': 0.665},\n",
    "    {'top_k': 4, 'hit': 0.715},\n",
    "    {'top_k': 5, 'hit': 0.755},\n",
    "    {'top_k': 6, 'hit': 0.795},\n",
    "    {'top_k': 7, 'hit': 0.840},\n",
    "    {'top_k': 8, 'hit': 0.855}\n",
    "]\n",
    "\n",
    "base = pd.DataFrame(data)\n",
    "base['dataset'] = 'baseline'\n",
    "temp['dataset'] = 'multi_query'\n",
    "concat_df = pd.concat([temp, base], ignore_index=True)\n",
    "print(temp)\n",
    "print(base)\n",
    "import seaborn as sns\n",
    "sns.barplot(x='top_k', y='hit', hue='dataset', data=concat_df)\n"
   ]
  }
 ],
 "metadata": {
  "kernelspec": {
   "display_name": "langchain",
   "language": "python",
   "name": "python3"
  },
  "language_info": {
   "codemirror_mode": {
    "name": "ipython",
    "version": 3
   },
   "file_extension": ".py",
   "mimetype": "text/x-python",
   "name": "python",
   "nbconvert_exporter": "python",
   "pygments_lexer": "ipython3",
   "version": "3.12.9"
  }
 },
 "nbformat": 4,
 "nbformat_minor": 5
}
