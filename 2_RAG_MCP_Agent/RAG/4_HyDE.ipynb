{
 "cells": [
  {
   "cell_type": "code",
   "execution_count": 1,
   "id": "3671c365",
   "metadata": {},
   "outputs": [],
   "source": [
    "import pickle\n",
    "import os\n",
    "import pandas as pd\n",
    "\n",
    "output_dir = \"outputs\"\n",
    "splitted_docs = pickle.load(open(os.path.join(output_dir, \"split_docs.pkl\"), 'rb'))\n",
    "qa_df = pd.read_json(os.path.join(output_dir, \"qa.json\"), lines=True)"
   ]
  },
  {
   "cell_type": "code",
   "execution_count": 3,
   "id": "a21866d3",
   "metadata": {},
   "outputs": [],
   "source": [
    "from langchain.embeddings import init_embeddings\n",
    "from langchain.chat_models import init_chat_model\n",
    "from langchain_chroma import Chroma\n",
    "import dotenv\n",
    "import os\n",
    "dotenv.load_dotenv()\n",
    "os.environ[\"OPENAI_API_KEY\"] = os.getenv(\"API_KEY\", \"\")\n",
    "os.environ[\"OPENAI_BASE_URL\"] = os.getenv(\"BASE_URL\", \"\")\n",
    "llm = init_chat_model(\n",
    "    model='openai:gpt-4o-mini',\n",
    "    temperature = 0.8,\n",
    "    top_p = 0.85\n",
    ")\n",
    "embeddings = init_embeddings(\n",
    "    model=\"openai:text-embedding-3-small\",\n",
    ")\n",
    "\n",
    "vector_db = Chroma.from_documents(\n",
    "    documents=splitted_docs,\n",
    "    persist_directory= os.path.join(output_dir, 'chromadb_v1'),\n",
    "    embedding=embeddings\n",
    ")"
   ]
  },
  {
   "cell_type": "code",
   "execution_count": 16,
   "id": "6a8aab90",
   "metadata": {},
   "outputs": [],
   "source": [
    "from langchain_core.prompts import PromptTemplate\n",
    "from langchain_core.output_parsers import StrOutputParser\n",
    "\n",
    "hype_prompt = PromptTemplate(\n",
    "    input_variables=['question'],\n",
    "    template = \"\"\"你是一位精通财经的专业分析师，请基于用户提问，回答问题, 答案尽量精简，在30个字左右。\n",
    "问题：{question}\n",
    "请回答：\n",
    "\"\"\"\n",
    ")\n",
    "hype_parser = StrOutputParser()\n",
    "retriever = vector_db.as_retriever(search_kwargs={'k' : 8})\n",
    "\n",
    "chain = (\n",
    "    hype_prompt\n",
    "    | llm\n",
    "    | hype_parser\n",
    "    | retriever\n",
    ")"
   ]
  },
  {
   "cell_type": "code",
   "execution_count": 17,
   "id": "688beaac",
   "metadata": {},
   "outputs": [
    {
     "name": "stderr",
     "output_type": "stream",
     "text": [
      "100%|██████████| 401/401 [02:10<00:00,  3.06it/s]\n"
     ]
    }
   ],
   "source": [
    "from concurrent.futures import ThreadPoolExecutor, as_completed\n",
    "import time\n",
    "from tqdm.auto import tqdm\n",
    "import pandas as pd\n",
    "hit_rate_data = []\n",
    "def hype(row):\n",
    "    question = row['question']\n",
    "    true_uuid = row['uuid']\n",
    "    retries = 3\n",
    "    delay = 1\n",
    "    for i in range(retries):\n",
    "        try:\n",
    "            docs = chain.invoke({'question': question})\n",
    "            uuids = [doc.metadata['uuid'] for doc in docs]\n",
    "            hits = []\n",
    "            for k in range(1, 9):\n",
    "                hits.append({\n",
    "                    'question': question,\n",
    "                    'top_k': k,\n",
    "                    'hit': int(true_uuid in uuids[:k])\n",
    "                })\n",
    "            return hits\n",
    "        except Exception as exc:\n",
    "            if i < retries - 1:\n",
    "                time.sleep(delay)\n",
    "                delay *= 2\n",
    "            else:\n",
    "                raise exc\n",
    "    return []\n",
    "\n",
    "with ThreadPoolExecutor(max_workers=16) as excecutor:\n",
    "    futures = [excecutor.submit(hype, row) for idx, row in qa_df.iterrows()]\n",
    "    for future in tqdm(as_completed(futures), total=len(qa_df)):\n",
    "        hit_rate_data.extend(future.result())\n",
    "\n",
    "hit_rate_df = pd.DataFrame(hit_rate_data)"
   ]
  },
  {
   "cell_type": "code",
   "execution_count": 19,
   "id": "0cc80a32",
   "metadata": {},
   "outputs": [
    {
     "name": "stdout",
     "output_type": "stream",
     "text": [
      "   top_k       hit   dataset\n",
      "0      1  0.526185      hyde\n",
      "1      2  0.526185      hyde\n",
      "2      3  0.665835      hyde\n",
      "3      4  0.665835      hyde\n",
      "4      5  0.760599      hyde\n",
      "5      6  0.760599      hyde\n",
      "6      7  0.790524      hyde\n",
      "7      8  0.790524      hyde\n",
      "0      1  0.405000  baseline\n",
      "1      2  0.580000  baseline\n",
      "2      3  0.665000  baseline\n",
      "3      4  0.715000  baseline\n",
      "4      5  0.755000  baseline\n",
      "5      6  0.795000  baseline\n",
      "6      7  0.840000  baseline\n",
      "7      8  0.855000  baseline\n"
     ]
    }
   ],
   "source": [
    "hyde_hits = hit_rate_df.groupby('top_k')['hit'].mean().reset_index()\n",
    "data = [\n",
    "    {'top_k': 1, 'hit': 0.405},\n",
    "    {'top_k': 2, 'hit': 0.580},\n",
    "    {'top_k': 3, 'hit': 0.665},\n",
    "    {'top_k': 4, 'hit': 0.715},\n",
    "    {'top_k': 5, 'hit': 0.755},\n",
    "    {'top_k': 6, 'hit': 0.795},\n",
    "    {'top_k': 7, 'hit': 0.840},\n",
    "    {'top_k': 8, 'hit': 0.855}\n",
    "]\n",
    "base = pd.DataFrame(data)\n",
    "hyde_hits['dataset'] = 'hyde'\n",
    "base['dataset'] = 'baseline'\n",
    "concat_df = pd.concat([hyde_hits, base])\n",
    "print(concat_df)"
   ]
  },
  {
   "cell_type": "code",
   "execution_count": 21,
   "id": "5717daad",
   "metadata": {},
   "outputs": [
    {
     "data": {
      "text/plain": [
       "<Axes: xlabel='top_k', ylabel='hit'>"
      ]
     },
     "execution_count": 21,
     "metadata": {},
     "output_type": "execute_result"
    },
    {
     "data": {
      "image/png": "[encoded data removed]",
      "text/plain": [
       "<Figure size 640x480 with 1 Axes>"
      ]
     },
     "metadata": {},
     "output_type": "display_data"
    }
   ],
   "source": [
    "import seaborn as sns\n",
    "\n",
    "sns.barplot(data=concat_df, x='top_k', y='hit', hue='dataset')"
   ]
  }
 ],
 "metadata": {
  "kernelspec": {
   "display_name": "langchain",
   "language": "python",
   "name": "python3"
  },
  "language_info": {
   "codemirror_mode": {
    "name": "ipython",
    "version": 3
   },
   "file_extension": ".py",
   "mimetype": "text/x-python",
   "name": "python",
   "nbconvert_exporter": "python",
   "pygments_lexer": "ipython3",
   "version": "3.12.9"
  }
 },
 "nbformat": 4,
 "nbformat_minor": 5
}
