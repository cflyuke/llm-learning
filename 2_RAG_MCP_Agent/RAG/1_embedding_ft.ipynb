{
  "cells": [
    {
      "cell_type": "code",
      "execution_count": null,
      "metadata": {
        "id": "8maVN5egE8ND"
      },
      "outputs": [],
      "source": [
        "import pandas as pd\n",
        "import json\n",
        "import pickle\n",
        "import os\n",
        "from langchain.text_splitter import RecursiveCharacterTextSplitter\n",
        "from langchain_community.document_loaders import PyPDFLoader\n",
        "from uuid import uuid4\n",
        "\n",
        "def split_docs(documents, filepath, chunk_size=400, chunk_overlap=40, seperators=['\\n\\n\\n', '\\n\\n'], force_split=False):\n",
        "    if os.path.exists(filepath) and not force_split:\n",
        "        return pickle.load(open(filepath, 'rb'))\n",
        "\n",
        "    splitter = RecursiveCharacterTextSplitter(\n",
        "        chunk_size=chunk_size,\n",
        "        chunk_overlap=chunk_overlap,\n",
        "        separators=seperators\n",
        "    )\n",
        "    split_docs = splitter.split_documents(documents)\n",
        "    for chunk in split_docs:\n",
        "        chunk.metadata['uuid'] = str(uuid4())\n",
        "\n",
        "    pickle.dump(split_docs, open(filepath, 'wb'))\n",
        "\n",
        "    return split_docs\n",
        "documents = PyPDFLoader(\"data/2024全球经济金融展望报告.pdf\").load()\n",
        "splitted_docs = split_docs(documents, os.path.join(\"outputs\", 'split_docs.pkl'))"
      ]
    },
    {
      "cell_type": "code",
      "execution_count": 2,
      "metadata": {
        "colab": {
          "base_uri": "https://localhost:8080/",
          "height": 293
        },
        "id": "YdXkqZJJFldn",
        "outputId": "324ee231-d20f-4e12-e782-c1d4a05c90d7"
      },
      "outputs": [
        {
          "data": {
            "text/html": [
              "<div>\n",
              "<style scoped>\n",
              "    .dataframe tbody tr th:only-of-type {\n",
              "        vertical-align: middle;\n",
              "    }\n",
              "\n",
              "    .dataframe tbody tr th {\n",
              "        vertical-align: top;\n",
              "    }\n",
              "\n",
              "    .dataframe thead th {\n",
              "        text-align: right;\n",
              "    }\n",
              "</style>\n",
              "<table border=\"1\" class=\"dataframe\">\n",
              "  <thead>\n",
              "    <tr style=\"text-align: right;\">\n",
              "      <th></th>\n",
              "      <th>question</th>\n",
              "      <th>context</th>\n",
              "      <th>answer</th>\n",
              "      <th>uuid</th>\n",
              "    </tr>\n",
              "  </thead>\n",
              "  <tbody>\n",
              "    <tr>\n",
              "      <th>0</th>\n",
              "      <td>2023年全球经济增长的主要特点是什么？</td>\n",
              "      <td>2023 年全球经济增长动力持续回落，各国复苏分化，发达经济体增速明显放缓，新兴经济体整体表...</td>\n",
              "      <td>2023年全球经济增长动力持续回落，发达经济体增速明显放缓，而新兴经济体整体表现稳定。</td>\n",
              "      <td>35e5de15-d070-498f-8ffc-447971614d05</td>\n",
              "    </tr>\n",
              "    <tr>\n",
              "      <th>1</th>\n",
              "      <td>2024年全球经济复苏的预期是什么？</td>\n",
              "      <td>展望 2024 年，预计全球经济复苏将依旧疲软，主要经济体增长态势和货币政策走势将进一步分化。</td>\n",
              "      <td>预计全球经济复苏将依旧疲软，主要经济体的增长态势和货币政策走势将进一步分化。</td>\n",
              "      <td>35e5de15-d070-498f-8ffc-447971614d05</td>\n",
              "    </tr>\n",
              "    <tr>\n",
              "      <th>2</th>\n",
              "      <td>2023年全球股市的表现如何？</td>\n",
              "      <td>全球股市表现总体好于预期，但区域分化明显。</td>\n",
              "      <td>全球股市表现总体好于预期，但存在明显的区域分化。</td>\n",
              "      <td>35e5de15-d070-498f-8ffc-447971614d05</td>\n",
              "    </tr>\n",
              "    <tr>\n",
              "      <th>3</th>\n",
              "      <td>高利率环境对债券市场有什么影响？</td>\n",
              "      <td>高利率环境抑制债券融资需求，债券违约风险持续上升。</td>\n",
              "      <td>高利率环境抑制债券融资需求，并导致债券违约风险持续上升。</td>\n",
              "      <td>35e5de15-d070-498f-8ffc-447971614d05</td>\n",
              "    </tr>\n",
              "    <tr>\n",
              "      <th>4</th>\n",
              "      <td>预计2024年美国房地产市场将受到什么影响？</td>\n",
              "      <td>高利率和高债务对美国房地产市场脆弱性的影响等热点问题值得关注。</td>\n",
              "      <td>高利率和高债务将对美国房地产市场的脆弱性产生影响。</td>\n",
              "      <td>35e5de15-d070-498f-8ffc-447971614d05</td>\n",
              "    </tr>\n",
              "  </tbody>\n",
              "</table>\n",
              "</div>"
            ],
            "text/plain": [
              "                 question                                            context  \\\n",
              "0    2023年全球经济增长的主要特点是什么？  2023 年全球经济增长动力持续回落，各国复苏分化，发达经济体增速明显放缓，新兴经济体整体表...   \n",
              "1      2024年全球经济复苏的预期是什么？    展望 2024 年，预计全球经济复苏将依旧疲软，主要经济体增长态势和货币政策走势将进一步分化。   \n",
              "2         2023年全球股市的表现如何？                              全球股市表现总体好于预期，但区域分化明显。   \n",
              "3        高利率环境对债券市场有什么影响？                          高利率环境抑制债券融资需求，债券违约风险持续上升。   \n",
              "4  预计2024年美国房地产市场将受到什么影响？                    高利率和高债务对美国房地产市场脆弱性的影响等热点问题值得关注。   \n",
              "\n",
              "                                        answer  \\\n",
              "0  2023年全球经济增长动力持续回落，发达经济体增速明显放缓，而新兴经济体整体表现稳定。   \n",
              "1       预计全球经济复苏将依旧疲软，主要经济体的增长态势和货币政策走势将进一步分化。   \n",
              "2                     全球股市表现总体好于预期，但存在明显的区域分化。   \n",
              "3                 高利率环境抑制债券融资需求，并导致债券违约风险持续上升。   \n",
              "4                    高利率和高债务将对美国房地产市场的脆弱性产生影响。   \n",
              "\n",
              "                                   uuid  \n",
              "0  35e5de15-d070-498f-8ffc-447971614d05  \n",
              "1  35e5de15-d070-498f-8ffc-447971614d05  \n",
              "2  35e5de15-d070-498f-8ffc-447971614d05  \n",
              "3  35e5de15-d070-498f-8ffc-447971614d05  \n",
              "4  35e5de15-d070-498f-8ffc-447971614d05  "
            ]
          },
          "execution_count": 2,
          "metadata": {},
          "output_type": "execute_result"
        }
      ],
      "source": [
        "qa_df = pd.read_json(os.path.join(\"outputs\", 'qa.json'), lines=True)\n",
        "qa_df.head()"
      ]
    },
    {
      "cell_type": "code",
      "execution_count": 6,
      "metadata": {},
      "outputs": [
        {
          "name": "stderr",
          "output_type": "stream",
          "text": [
            "100%|██████████| 401/401 [00:00<00:00, 2674.45it/s]"
          ]
        },
        {
          "name": "stdout",
          "output_type": "stream",
          "text": [
            "{'query': '2023年全球经济增长的主要特点是什么？', 'pos': ['2023 年全球经济增长动力持续回落，各国复苏分化，发达经济体增速明显放缓，新兴经济体整体表现稳定。全球贸易增长乏力，各国生产景气度逐渐回落，内需对经济的拉动作用减弱。'], 'neg': ['展望 2024 年，预计全球经济复苏将依旧疲软，主要经济体增长态势和货币政策走势将进一步分化。', '全球股市表现总体好于预期，但区域分化明显。', '高利率环境抑制债券融资需求，债券违约风险持续上升。', '高利率和高债务对美国房地产市场脆弱性的影响等热点问题值得关注。', '国际原油市场短缺格局或延续，新能源发展成为重点。', '欧美央行大概率结束本轮紧缩货币周期，美元指数将逐步走弱。', '流向新兴经济体的跨境资本将增加。', '2023 年，全球经济增长动力持续回落。分区域看，各国复苏存在较大差异，发达经济体增速明显放缓，新兴经济体增速与2022 年大致持平。', '预计2023年全球GDP 增速为2.7%（市场汇率法），较2022 年下降0.3 个百分点。', '生产端，全球供应链持续恢复，但生产景气度逐渐回落。', '欧美央行货币政策延续收紧态势，但步伐整体放缓。', '高利率环境抑制债券融资需求，债券违约风险持续上升。', '展望2024 年，预计全球经济复苏将依旧疲软，主要经济体增长态势和货币政策将进一步分化。', '日本央行可能退出负利率政策，跨境资本回流美国趋势将放缓。', '本期报告分别对海湾六国经济发展与投资前景、高利率和高债务对美国房地产市场脆弱性的影响两个专题展开分析。', '分区域看，全球经济复苏不均衡，各国存在较大差异。发达经济体增速明显放缓，预计2023年增速较2022年下降1个百分点。']}\n"
          ]
        },
        {
          "name": "stderr",
          "output_type": "stream",
          "text": [
            "\n"
          ]
        }
      ],
      "source": [
        "def build_qa_samples(df, neg_batch_size=-1, n_neg_batch=5):\n",
        "    from tqdm.auto import tqdm\n",
        "    import math\n",
        "    result = []\n",
        "    for idx, row in tqdm(df.iterrows(), total=len(df)):\n",
        "        question = row['question']\n",
        "        answer = row['context']\n",
        "        neg_samples = df[df['question'] != question]['context'].values.tolist()\n",
        "        n_neg_batch = min(n_neg_batch, math.ceil((len(df) - 1) / neg_batch_size))\n",
        "        for neg_batch_idx in range(n_neg_batch):\n",
        "            batch_neg_samples = neg_samples[neg_batch_idx * neg_batch_size : (neg_batch_idx + 1) * neg_batch_size]\n",
        "            batch_neg_samples = [a  for a in batch_neg_samples if a != answer]\n",
        "            result.append(\n",
        "                {\n",
        "                    'query': question,\n",
        "                    'pos': [answer],\n",
        "                    'neg': batch_neg_samples\n",
        "                }\n",
        "            )\n",
        "    return result\n",
        "\n",
        "neg_pos_samples = build_qa_samples(qa_df, neg_batch_size=16, n_neg_batch=32)\n",
        "print(neg_pos_samples[0])\n"
      ]
    },
    {
      "cell_type": "code",
      "execution_count": 7,
      "metadata": {},
      "outputs": [],
      "source": [
        "write_file = os.path.join(\"outputs\", 'neg_pos.json')\n",
        "with open(write_file, 'wt') as file:\n",
        "    for dict in neg_pos_samples:\n",
        "        file.write(json.dumps(dict, ensure_ascii=False) + '\\n')"
      ]
    }
  ],
  "metadata": {
    "accelerator": "GPU",
    "colab": {
      "gpuType": "T4",
      "provenance": []
    },
    "kernelspec": {
      "display_name": "langchain",
      "language": "python",
      "name": "python3"
    },
    "language_info": {
      "codemirror_mode": {
        "name": "ipython",
        "version": 3
      },
      "file_extension": ".py",
      "mimetype": "text/x-python",
      "name": "python",
      "nbconvert_exporter": "python",
      "pygments_lexer": "ipython3",
      "version": "3.12.9"
    }
  },
  "nbformat": 4,
  "nbformat_minor": 0
}
