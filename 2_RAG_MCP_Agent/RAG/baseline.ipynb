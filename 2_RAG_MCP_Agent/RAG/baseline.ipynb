{
 "cells": [
  {
   "cell_type": "markdown",
   "id": "703910fb",
   "metadata": {},
   "source": [
    "## 文档处理"
   ]
  },
  {
   "cell_type": "code",
   "execution_count": 1,
   "id": "b787530d",
   "metadata": {},
   "outputs": [],
   "source": [
    "## 文档加载\n",
    "from langchain_community.document_loaders import PyPDFLoader\n",
    "\n",
    "loader = PyPDFLoader(\"data/2024全球经济金融展望报告.pdf\")\n",
    "documents = loader.load()"
   ]
  },
  {
   "cell_type": "code",
   "execution_count": 2,
   "id": "b6fa5cc8",
   "metadata": {},
   "outputs": [],
   "source": [
    "## 文档切分\n",
    "from uuid import uuid4\n",
    "import os \n",
    "import re\n",
    "import pickle\n",
    "from langchain.text_splitter import RecursiveCharacterTextSplitter\n",
    "from langchain_core.documents import Document\n",
    "\n",
    "def split_docs(documents, filepath, chunk_size=500, chunk_overlap=50, seperators=['\\n\\n\\n', '\\n\\n'], force_split=False):\n",
    "    if os.path.exists(filepath) and not force_split:\n",
    "        return pickle.load(open(filepath, 'rb'))\n",
    "    \n",
    "    splitter = RecursiveCharacterTextSplitter(\n",
    "        separators=seperators,\n",
    "        chunk_size=chunk_size,\n",
    "        chunk_overlap=chunk_overlap\n",
    "    )\n",
    "    split_docs = splitter.split_documents(documents)\n",
    "    for doc in split_docs:\n",
    "        doc.metadata['uuid'] = str(uuid4())\n",
    "\n",
    "    pickle.dump(split_docs, open(filepath, 'wb'))\n",
    "    return split_docs\n",
    "\n",
    "loader = PyPDFLoader(\"data/2024全球经济金融展望报告.pdf\")\n",
    "documents = loader.load()\n",
    "\n",
    "pattern = r\"^全球经济金融展望报告\\n中国银行研究院 \\d+ 2024 年\"\n",
    "merged_docs = [Document(page_content='\\n'.join(re.sub(pattern, \"\", doc.page_content) for doc in documents))]\n",
    "splitted_docs = split_docs(merged_docs, os.path.join(\"outputs\", 'split_docs.pkl'), chunk_size=500, chunk_overlap=50)"
   ]
  },
  {
   "cell_type": "markdown",
   "id": "9578ee93",
   "metadata": {},
   "source": [
    "## 检索"
   ]
  },
  {
   "cell_type": "code",
   "execution_count": 3,
   "id": "a3f9befe",
   "metadata": {},
   "outputs": [],
   "source": [
    "from langchain.embeddings import init_embeddings\n",
    "import dotenv\n",
    "import os\n",
    "dotenv.load_dotenv()\n",
    "os.environ[\"OPENAI_API_KEY\"] = os.getenv(\"API_KEY\", \"\")\n",
    "os.environ[\"OPENAI_BASE_URL\"] = os.getenv(\"BASE_URL\", \"\")\n",
    "\n",
    "embeddings = init_embeddings(\n",
    "    model=\"openai:text-embedding-3-small\",\n",
    ")"
   ]
  },
  {
   "cell_type": "code",
   "execution_count": 4,
   "id": "55480426",
   "metadata": {},
   "outputs": [
    {
     "name": "stderr",
     "output_type": "stream",
     "text": [
      "/Users/yuke/github/llm-learning/langchain/.venv/lib/python3.12/site-packages/tqdm/auto.py:21: TqdmWarning: IProgress not found. Please update jupyter and ipywidgets. See https://ipywidgets.readthedocs.io/en/stable/user_install.html\n",
      "  from .autonotebook import tqdm as notebook_tqdm\n"
     ]
    }
   ],
   "source": [
    "from tqdm.auto import tqdm\n",
    "from langchain_chroma import Chroma\n",
    "def get_vector_db(docs, store_path, force_rebuild=False):\n",
    "    if os.path.exists(store_path) and not force_rebuild:\n",
    "        return Chroma(\n",
    "            persist_directory=store_path,\n",
    "            embedding_function=embeddings\n",
    "        )\n",
    "    vector_db = Chroma.from_documents(\n",
    "        documents = docs,\n",
    "        persist_directory=store_path,\n",
    "        embedding=embeddings\n",
    "    )\n",
    "    return vector_db\n",
    "\n",
    "vector_db = get_vector_db(splitted_docs, store_path=os.path.join(\"outputs\", \"chromadb_v1\"), force_rebuild=True)"
   ]
  },
  {
   "cell_type": "code",
   "execution_count": 5,
   "id": "050e1946",
   "metadata": {},
   "outputs": [],
   "source": [
    "def retrieve(vector_db, query: str, k=5):\n",
    "    return vector_db.similarity_search(query, k=k)"
   ]
  },
  {
   "cell_type": "code",
   "execution_count": 8,
   "id": "338acde8",
   "metadata": {},
   "outputs": [
    {
     "data": {
      "text/html": [
       "<div>\n",
       "<style scoped>\n",
       "    .dataframe tbody tr th:only-of-type {\n",
       "        vertical-align: middle;\n",
       "    }\n",
       "\n",
       "    .dataframe tbody tr th {\n",
       "        vertical-align: top;\n",
       "    }\n",
       "\n",
       "    .dataframe thead th {\n",
       "        text-align: right;\n",
       "    }\n",
       "</style>\n",
       "<table border=\"1\" class=\"dataframe\">\n",
       "  <thead>\n",
       "    <tr style=\"text-align: right;\">\n",
       "      <th></th>\n",
       "      <th>question</th>\n",
       "      <th>context</th>\n",
       "      <th>answer</th>\n",
       "      <th>uuid</th>\n",
       "    </tr>\n",
       "  </thead>\n",
       "  <tbody>\n",
       "    <tr>\n",
       "      <th>0</th>\n",
       "      <td>2023年全球经济增长的主要特点是什么？</td>\n",
       "      <td>2023 年全球经济增长动力持续回落，各国复苏分化，发达经济体增速明显放缓，新兴经济体整体表...</td>\n",
       "      <td>2023年全球经济增长动力持续回落，发达经济体增速明显放缓，而新兴经济体整体表现稳定。</td>\n",
       "      <td>35e5de15-d070-498f-8ffc-447971614d05</td>\n",
       "    </tr>\n",
       "    <tr>\n",
       "      <th>1</th>\n",
       "      <td>2024年全球经济复苏的预期是什么？</td>\n",
       "      <td>展望 2024 年，预计全球经济复苏将依旧疲软，主要经济体增长态势和货币政策走势将进一步分化。</td>\n",
       "      <td>预计全球经济复苏将依旧疲软，主要经济体的增长态势和货币政策走势将进一步分化。</td>\n",
       "      <td>35e5de15-d070-498f-8ffc-447971614d05</td>\n",
       "    </tr>\n",
       "    <tr>\n",
       "      <th>2</th>\n",
       "      <td>2023年全球股市的表现如何？</td>\n",
       "      <td>全球股市表现总体好于预期，但区域分化明显。</td>\n",
       "      <td>全球股市表现总体好于预期，但存在明显的区域分化。</td>\n",
       "      <td>35e5de15-d070-498f-8ffc-447971614d05</td>\n",
       "    </tr>\n",
       "    <tr>\n",
       "      <th>3</th>\n",
       "      <td>高利率环境对债券市场有什么影响？</td>\n",
       "      <td>高利率环境抑制债券融资需求，债券违约风险持续上升。</td>\n",
       "      <td>高利率环境抑制债券融资需求，并导致债券违约风险持续上升。</td>\n",
       "      <td>35e5de15-d070-498f-8ffc-447971614d05</td>\n",
       "    </tr>\n",
       "    <tr>\n",
       "      <th>4</th>\n",
       "      <td>预计2024年美国房地产市场将受到什么影响？</td>\n",
       "      <td>高利率和高债务对美国房地产市场脆弱性的影响等热点问题值得关注。</td>\n",
       "      <td>高利率和高债务将对美国房地产市场的脆弱性产生影响。</td>\n",
       "      <td>35e5de15-d070-498f-8ffc-447971614d05</td>\n",
       "    </tr>\n",
       "  </tbody>\n",
       "</table>\n",
       "</div>"
      ],
      "text/plain": [
       "                 question                                            context  \\\n",
       "0    2023年全球经济增长的主要特点是什么？  2023 年全球经济增长动力持续回落，各国复苏分化，发达经济体增速明显放缓，新兴经济体整体表...   \n",
       "1      2024年全球经济复苏的预期是什么？    展望 2024 年，预计全球经济复苏将依旧疲软，主要经济体增长态势和货币政策走势将进一步分化。   \n",
       "2         2023年全球股市的表现如何？                              全球股市表现总体好于预期，但区域分化明显。   \n",
       "3        高利率环境对债券市场有什么影响？                          高利率环境抑制债券融资需求，债券违约风险持续上升。   \n",
       "4  预计2024年美国房地产市场将受到什么影响？                    高利率和高债务对美国房地产市场脆弱性的影响等热点问题值得关注。   \n",
       "\n",
       "                                        answer  \\\n",
       "0  2023年全球经济增长动力持续回落，发达经济体增速明显放缓，而新兴经济体整体表现稳定。   \n",
       "1       预计全球经济复苏将依旧疲软，主要经济体的增长态势和货币政策走势将进一步分化。   \n",
       "2                     全球股市表现总体好于预期，但存在明显的区域分化。   \n",
       "3                 高利率环境抑制债券融资需求，并导致债券违约风险持续上升。   \n",
       "4                    高利率和高债务将对美国房地产市场的脆弱性产生影响。   \n",
       "\n",
       "                                   uuid  \n",
       "0  35e5de15-d070-498f-8ffc-447971614d05  \n",
       "1  35e5de15-d070-498f-8ffc-447971614d05  \n",
       "2  35e5de15-d070-498f-8ffc-447971614d05  \n",
       "3  35e5de15-d070-498f-8ffc-447971614d05  \n",
       "4  35e5de15-d070-498f-8ffc-447971614d05  "
      ]
     },
     "execution_count": 8,
     "metadata": {},
     "output_type": "execute_result"
    }
   ],
   "source": [
    "import pandas as pd\n",
    "qa_df = pd.read_json(os.path.join(\"outputs\", \"qa.json\"), lines=True)\n",
    "qa_df.head()\n",
    "test_df = qa_df.iloc[:200]\n",
    "test_df.head()"
   ]
  },
  {
   "cell_type": "code",
   "execution_count": 11,
   "id": "85808ef8",
   "metadata": {},
   "outputs": [
    {
     "name": "stderr",
     "output_type": "stream",
     "text": [
      "100%|██████████| 200/200 [08:54<00:00,  2.67s/it]\n"
     ]
    },
    {
     "data": {
      "text/html": [
       "<div>\n",
       "<style scoped>\n",
       "    .dataframe tbody tr th:only-of-type {\n",
       "        vertical-align: middle;\n",
       "    }\n",
       "\n",
       "    .dataframe tbody tr th {\n",
       "        vertical-align: top;\n",
       "    }\n",
       "\n",
       "    .dataframe thead th {\n",
       "        text-align: right;\n",
       "    }\n",
       "</style>\n",
       "<table border=\"1\" class=\"dataframe\">\n",
       "  <thead>\n",
       "    <tr style=\"text-align: right;\">\n",
       "      <th></th>\n",
       "      <th>question</th>\n",
       "      <th>top_k</th>\n",
       "      <th>hit</th>\n",
       "    </tr>\n",
       "  </thead>\n",
       "  <tbody>\n",
       "    <tr>\n",
       "      <th>0</th>\n",
       "      <td>2023年全球经济增长的主要特点是什么？</td>\n",
       "      <td>1</td>\n",
       "      <td>0</td>\n",
       "    </tr>\n",
       "    <tr>\n",
       "      <th>1</th>\n",
       "      <td>2023年全球经济增长的主要特点是什么？</td>\n",
       "      <td>2</td>\n",
       "      <td>0</td>\n",
       "    </tr>\n",
       "    <tr>\n",
       "      <th>2</th>\n",
       "      <td>2023年全球经济增长的主要特点是什么？</td>\n",
       "      <td>3</td>\n",
       "      <td>0</td>\n",
       "    </tr>\n",
       "    <tr>\n",
       "      <th>3</th>\n",
       "      <td>2023年全球经济增长的主要特点是什么？</td>\n",
       "      <td>4</td>\n",
       "      <td>0</td>\n",
       "    </tr>\n",
       "    <tr>\n",
       "      <th>4</th>\n",
       "      <td>2023年全球经济增长的主要特点是什么？</td>\n",
       "      <td>5</td>\n",
       "      <td>0</td>\n",
       "    </tr>\n",
       "  </tbody>\n",
       "</table>\n",
       "</div>"
      ],
      "text/plain": [
       "               question  top_k  hit\n",
       "0  2023年全球经济增长的主要特点是什么？      1    0\n",
       "1  2023年全球经济增长的主要特点是什么？      2    0\n",
       "2  2023年全球经济增长的主要特点是什么？      3    0\n",
       "3  2023年全球经济增长的主要特点是什么？      4    0\n",
       "4  2023年全球经济增长的主要特点是什么？      5    0"
      ]
     },
     "execution_count": 11,
     "metadata": {},
     "output_type": "execute_result"
    }
   ],
   "source": [
    "top_k_arr = list(range(1, 9))\n",
    "hit_state_data = []\n",
    "for idx, row in tqdm(test_df.iterrows(), total=len(test_df)):\n",
    "    question = row['question']\n",
    "    true_uuid = row['uuid']\n",
    "    chunks = retrieve(vector_db, question, k=9)\n",
    "    retrieval_uuids = [doc.metadata['uuid'] for doc in chunks]\n",
    "\n",
    "    for k in top_k_arr:\n",
    "        hit_state_data.append({\n",
    "            \"question\": question,\n",
    "            \"top_k\": k,\n",
    "            \"hit\": int(true_uuid in retrieval_uuids[:k])\n",
    "        })\n",
    "\n",
    "hit_state_df = pd.DataFrame(hit_state_data)\n",
    "hit_state_df.head()"
   ]
  },
  {
   "cell_type": "code",
   "execution_count": 13,
   "id": "eb3ee243",
   "metadata": {},
   "outputs": [
    {
     "name": "stdout",
     "output_type": "stream",
     "text": [
      "   top_k    hit\n",
      "0      1  0.405\n",
      "1      2  0.580\n",
      "2      3  0.665\n",
      "3      4  0.715\n",
      "4      5  0.755\n",
      "5      6  0.795\n",
      "6      7  0.840\n",
      "7      8  0.855\n"
     ]
    },
    {
     "data": {
      "text/plain": [
       "<Axes: xlabel='top_k', ylabel='hit'>"
      ]
     },
     "execution_count": 13,
     "metadata": {},
     "output_type": "execute_result"
    },
    {
     "data": {
      "image/png": "[encoded data removed]",
      "text/plain": [
       "<Figure size 640x480 with 1 Axes>"
      ]
     },
     "metadata": {},
     "output_type": "display_data"
    }
   ],
   "source": [
    "import seaborn as sns\n",
    "temp = hit_state_df.groupby(\"top_k\")['hit'].mean().reset_index()\n",
    "print(temp)\n",
    "sns.barplot(x=\"top_k\", y='hit', data=temp)"
   ]
  },
  {
   "cell_type": "markdown",
   "id": "624c1ccd",
   "metadata": {},
   "source": [
    "## 问答"
   ]
  },
  {
   "cell_type": "code",
   "execution_count": null,
   "id": "25b9d276",
   "metadata": {},
   "outputs": [
    {
     "name": "stdout",
     "output_type": "stream",
     "text": [
      "2023年10月，美国ISM制造业PMI指数较上月大幅下降2.3个百分点。"
     ]
    }
   ],
   "source": [
    "## LCEL表达式\n",
    "from langchain_core.output_parsers import StrOutputParser\n",
    "from langchain_core.prompts import PromptTemplate\n",
    "from langchain_core.runnables import RunnablePassthrough\n",
    "from langchain.chat_models import init_chat_model\n",
    "\n",
    "llm = init_chat_model(\n",
    "    model=\"gpt-4o-mini\",\n",
    "    temperature=0.85\n",
    ")\n",
    "\n",
    "\n",
    "def format_docs(docs):\n",
    "    return '\\n\\n'.join(doc.page_content for doc in docs)\n",
    "\n",
    "prompt = PromptTemplate.from_template(\n",
    "    template=\"\"\"\n",
    "你是一个金融分析师，擅长根据所获取的信息片段，对问题进行分析和推理。\n",
    "你的任务是根据所获取的信息片段（<<<<context>>><<<</context>>>之间的内容）回答问题。\n",
    "回答保持简洁，不必重复问题，不要要添加描述性解释和与答案无关的任何内容。\n",
    "已知信息：\n",
    "<<<<context>>>\n",
    "{context}\n",
    "<<<</context>>>\n",
    "\n",
    "问题：{question}\n",
    "请回答：\n",
    "\"\"\"\n",
    ")\n",
    "\n",
    "\n",
    "retriever = vector_db.as_retriever(search_kwargs={'k': 4})\n",
    "\n",
    "rag_chain = (\n",
    "    {\"context\": retriever | format_docs, \"question\": RunnablePassthrough()}\n",
    "    | prompt\n",
    "    | llm\n",
    "    | StrOutputParser()\n",
    ")\n",
    "for chunk in rag_chain.stream(\"2023年10月美国ISM制造业PMI指数较上月有何变化？\"):\n",
    "    print(chunk, end=\"\", flush=True)"
   ]
  },
  {
   "cell_type": "code",
   "execution_count": 10,
   "id": "6b4c5a1f",
   "metadata": {},
   "outputs": [
    {
     "name": "stderr",
     "output_type": "stream",
     "text": [
      "100%|██████████| 10/10 [00:45<00:00,  4.57s/it]\n",
      "/var/folders/hf/sr_hnkdx0hngrzhq36gsqvdw0000gn/T/ipykernel_19815/1577244529.py:34: SettingWithCopyWarning: \n",
      "A value is trying to be set on a copy of a slice from a DataFrame.\n",
      "Try using .loc[row_indexer,col_indexer] = value instead\n",
      "\n",
      "See the caveats in the documentation: https://pandas.pydata.org/pandas-docs/stable/user_guide/indexing.html#returning-a-view-versus-a-copy\n",
      "  prediction_df.loc[:, 'gen_answer'] = prediction_df['question'].apply(lambda q: answer_dict[q]['gen_answer'])\n"
     ]
    },
    {
     "data": {
      "text/html": [
       "<div>\n",
       "<style scoped>\n",
       "    .dataframe tbody tr th:only-of-type {\n",
       "        vertical-align: middle;\n",
       "    }\n",
       "\n",
       "    .dataframe tbody tr th {\n",
       "        vertical-align: top;\n",
       "    }\n",
       "\n",
       "    .dataframe thead th {\n",
       "        text-align: right;\n",
       "    }\n",
       "</style>\n",
       "<table border=\"1\" class=\"dataframe\">\n",
       "  <thead>\n",
       "    <tr style=\"text-align: right;\">\n",
       "      <th></th>\n",
       "      <th>question</th>\n",
       "      <th>context</th>\n",
       "      <th>answer</th>\n",
       "      <th>uuid</th>\n",
       "      <th>gen_answer</th>\n",
       "    </tr>\n",
       "  </thead>\n",
       "  <tbody>\n",
       "    <tr>\n",
       "      <th>0</th>\n",
       "      <td>2023年全球经济增长的主要特点是什么？</td>\n",
       "      <td>图 1：全球GDP增速（%）\\n资料来源：IMF，中国银行研究院\\n分区域看，全球经济复苏不...</td>\n",
       "      <td>2023年全球经济增长动力持续回落，发达经济体增速明显放缓，而新兴经济体整体表现稳定。</td>\n",
       "      <td>35e5de15-d070-498f-8ffc-447971614d05</td>\n",
       "      <td>2023年全球经济增长的主要特点是发达经济体增速放缓，新兴经济体增速与2022年大致持平，但...</td>\n",
       "    </tr>\n",
       "    <tr>\n",
       "      <th>1</th>\n",
       "      <td>2024年全球经济复苏的预期是什么？</td>\n",
       "      <td>\\n\\n率政策。\\n二是各国经济走势将进一步分化。相较于新兴市场和发展中经济体，发达\\n经济...</td>\n",
       "      <td>预计全球经济复苏将依旧疲软，主要经济体的增长态势和货币政策走势将进一步分化。</td>\n",
       "      <td>35e5de15-d070-498f-8ffc-447971614d05</td>\n",
       "      <td>2024年全球经济复苏预期为疲软，增速约在2.5%左右，较2023年下降0.2个百分点，复苏...</td>\n",
       "    </tr>\n",
       "    <tr>\n",
       "      <th>2</th>\n",
       "      <td>2023年全球股市的表现如何？</td>\n",
       "      <td>\\n\\n展望2024 年，全球股票市场走势将呈现以下特征。\\n1.美国股票市场上行空间有限，...</td>\n",
       "      <td>全球股市表现总体好于预期，但存在明显的区域分化。</td>\n",
       "      <td>35e5de15-d070-498f-8ffc-447971614d05</td>\n",
       "      <td>截至2023年11月15日，全球股市表现总体好于预期，MSCI全球指数涨幅达13.0%。发达...</td>\n",
       "    </tr>\n",
       "    <tr>\n",
       "      <th>3</th>\n",
       "      <td>高利率环境对债券市场有什么影响？</td>\n",
       "      <td>\\n\\n体国债收益率出现较大幅度下跌。当前，国债收益率大幅波动成为全球金融市\\n场重要风险点...</td>\n",
       "      <td>高利率环境抑制债券融资需求，并导致债券违约风险持续上升。</td>\n",
       "      <td>35e5de15-d070-498f-8ffc-447971614d05</td>\n",
       "      <td>高利率环境抑制了债券融资需求，导致债券市场融资规模下降。同时，国债收益率维持高位，全球债券违...</td>\n",
       "    </tr>\n",
       "    <tr>\n",
       "      <th>4</th>\n",
       "      <td>预计2024年美国房地产市场将受到什么影响？</td>\n",
       "      <td>\\n\\n响 2024 年美国经济走势的重要因素。2023 年美国通胀已明显放缓，受基期效\\n...</td>\n",
       "      <td>高利率和高债务将对美国房地产市场的脆弱性产生影响。</td>\n",
       "      <td>35e5de15-d070-498f-8ffc-447971614d05</td>\n",
       "      <td>预计2024年美国房地产市场将受到以下影响：\\n\\n1. 通胀回落至2%目标将遇阻，可能导致...</td>\n",
       "    </tr>\n",
       "  </tbody>\n",
       "</table>\n",
       "</div>"
      ],
      "text/plain": [
       "                 question                                            context  \\\n",
       "0    2023年全球经济增长的主要特点是什么？  图 1：全球GDP增速（%）\\n资料来源：IMF，中国银行研究院\\n分区域看，全球经济复苏不...   \n",
       "1      2024年全球经济复苏的预期是什么？  \\n\\n率政策。\\n二是各国经济走势将进一步分化。相较于新兴市场和发展中经济体，发达\\n经济...   \n",
       "2         2023年全球股市的表现如何？  \\n\\n展望2024 年，全球股票市场走势将呈现以下特征。\\n1.美国股票市场上行空间有限，...   \n",
       "3        高利率环境对债券市场有什么影响？  \\n\\n体国债收益率出现较大幅度下跌。当前，国债收益率大幅波动成为全球金融市\\n场重要风险点...   \n",
       "4  预计2024年美国房地产市场将受到什么影响？  \\n\\n响 2024 年美国经济走势的重要因素。2023 年美国通胀已明显放缓，受基期效\\n...   \n",
       "\n",
       "                                        answer  \\\n",
       "0  2023年全球经济增长动力持续回落，发达经济体增速明显放缓，而新兴经济体整体表现稳定。   \n",
       "1       预计全球经济复苏将依旧疲软，主要经济体的增长态势和货币政策走势将进一步分化。   \n",
       "2                     全球股市表现总体好于预期，但存在明显的区域分化。   \n",
       "3                 高利率环境抑制债券融资需求，并导致债券违约风险持续上升。   \n",
       "4                    高利率和高债务将对美国房地产市场的脆弱性产生影响。   \n",
       "\n",
       "                                   uuid  \\\n",
       "0  35e5de15-d070-498f-8ffc-447971614d05   \n",
       "1  35e5de15-d070-498f-8ffc-447971614d05   \n",
       "2  35e5de15-d070-498f-8ffc-447971614d05   \n",
       "3  35e5de15-d070-498f-8ffc-447971614d05   \n",
       "4  35e5de15-d070-498f-8ffc-447971614d05   \n",
       "\n",
       "                                          gen_answer  \n",
       "0  2023年全球经济增长的主要特点是发达经济体增速放缓，新兴经济体增速与2022年大致持平，但...  \n",
       "1  2024年全球经济复苏预期为疲软，增速约在2.5%左右，较2023年下降0.2个百分点，复苏...  \n",
       "2  截至2023年11月15日，全球股市表现总体好于预期，MSCI全球指数涨幅达13.0%。发达...  \n",
       "3  高利率环境抑制了债券融资需求，导致债券市场融资规模下降。同时，国债收益率维持高位，全球债券违...  \n",
       "4  预计2024年美国房地产市场将受到以下影响：\\n\\n1. 通胀回落至2%目标将遇阻，可能导致...  "
      ]
     },
     "execution_count": 10,
     "metadata": {},
     "output_type": "execute_result"
    }
   ],
   "source": [
    "## 流程拆解\n",
    "\n",
    "def rag(query, n_chunks=5):\n",
    "    prompt_tmpl = \"\"\"\n",
    "    你是一个金融分析师，擅长根据所获取的信息片段，对问题进行分析和推理。\n",
    "    你的任务是根据所获取的信息片段（<<<<context>>><<<</context>>>之间的内容）回答问题。\n",
    "    回答保持简洁，不必重复问题，不要要添加描述性解释和与答案无关的任何内容。\n",
    "    已知信息：\n",
    "    <<<<context>>>\n",
    "    docs\n",
    "    <<<</context>>>\n",
    "\n",
    "    问题：question\n",
    "    请回答：\n",
    "    \"\"\".strip()\n",
    "    chunks = retrieve(vector_db, query, k=n_chunks)\n",
    "    prompt = prompt_tmpl.replace('docs', '\\n\\n'.join([doc.page_content for doc in chunks])).replace('question', query)\n",
    "    return llm.invoke(prompt).content, '\\n\\n'.join(doc.page_content for doc in chunks)\n",
    "\n",
    "prediction_df = qa_df.iloc[:10]\n",
    "\n",
    "answer_dict = {}\n",
    "for idx, row in tqdm(prediction_df.iterrows(), total=len(prediction_df)):\n",
    "    uuid = row[\"uuid\"]\n",
    "    question = row[\"question\"]\n",
    "    answer, context = rag(question, n_chunks=4)\n",
    "    answer_dict[question] = {\n",
    "        'uuid': uuid,\n",
    "        'ref_answer': row['answer'],\n",
    "        'gen_answer': answer,\n",
    "        'context': context\n",
    "    }\n",
    "\n",
    "prediction_df.loc[:, 'gen_answer'] = prediction_df['question'].apply(lambda q: answer_dict[q]['gen_answer'])\n",
    "prediction_df.loc[:, 'context'] = prediction_df['question'].apply(lambda q: answer_dict[q]['context'])\n",
    "prediction_df.head(5)"
   ]
  }
 ],
 "metadata": {
  "kernelspec": {
   "display_name": "langchain",
   "language": "python",
   "name": "python3"
  },
  "language_info": {
   "codemirror_mode": {
    "name": "ipython",
    "version": 3
   },
   "file_extension": ".py",
   "mimetype": "text/x-python",
   "name": "python",
   "nbconvert_exporter": "python",
   "pygments_lexer": "ipython3",
   "version": "3.12.9"
  }
 },
 "nbformat": 4,
 "nbformat_minor": 5
}
