{
 "cells": [
  {
   "cell_type": "markdown",
   "id": "d60adc4c-49a0-4431-8ce6-afaf6cc2ac2d",
   "metadata": {},
   "source": [
    "## 模型初始化"
   ]
  },
  {
   "cell_type": "code",
   "execution_count": null,
   "id": "a6b379d9-bf63-4170-8400-2669057c6dd1",
   "metadata": {},
   "outputs": [],
   "source": [
    "from transformers import TrainingArguments, Trainer\n",
    "from modelscope import AutoModelForCausalLM, AutoTokenizer\n",
    "from datasets import load_dataset\n",
    "import torch\n",
    "import json\n",
    "import os\n",
    "dataset_path = \"./ccfbdci.jsonl\"\n",
    "dataset_new_path = \"./ccfbdci_ner.jsonl\"\n",
    "model_path = \"qwen/qwen2.5-1.5B-instruct\"\n",
    "tokenizer = AutoTokenizer.from_pretrained(model_path, trust_remote_code=True)\n",
    "model = AutoModelForCausalLM.from_pretrained(model_path, device_map=\"auto\", dtype=torch.bfloat16)\n",
    "model.enable_input_require_grads()  ## set it if use gradient checkpointing"
   ]
  },
  {
   "cell_type": "markdown",
   "id": "025edf22-9752-4187-90c8-608ee1e38a55",
   "metadata": {},
   "source": [
    "## 数据集构造函数 & 预测生成函数"
   ]
  },
  {
   "cell_type": "code",
   "execution_count": null,
   "id": "27987d24-9aff-423c-ad6b-623f28ac7698",
   "metadata": {},
   "outputs": [],
   "source": [
    "def dataset_transfer(origin_path, new_path):\n",
    "    messages = []\n",
    "    match_name = [\"地名\", \"人名\", \"地理实体\", \"组织\"]\n",
    "    with open(origin_path, \"r\") as f:\n",
    "        for line in f:\n",
    "            data = json.loads(line)\n",
    "            input_text = data[\"text\"]\n",
    "            entities = data[\"entities\"]\n",
    "            entity_sentence = \"\"\n",
    "            for entity in entities:\n",
    "                entity_json = dict(entity)\n",
    "                entity_text = entity_json[\"entity_text\"]\n",
    "                entity_names = entity_json[\"entity_names\"]\n",
    "                for name in entity_names:\n",
    "                    if name in match_name:\n",
    "                        entity_label = name\n",
    "                        break\n",
    "                entity_sentence += f\"\"\"{{\"entity_text\": \"{entity_text}\", \"entity_label\": \"{entity_label}\"}}\"\"\"\n",
    "            if entity_sentence == \"\":\n",
    "                entity_sentence = \"没有找到任何实体\"\n",
    "            \n",
    "            message = {\n",
    "                \"instruction\": \"\"\"你是一个文本实体识别领域的专家，你需要从给定的句子中提取 地点; 人名; 地理实体; 组织 实体. 以 json 格式输出, 如 {\"entity_text\": \"南京\", \"entity_label\": \"地理实体\"} 注意: 1. 输出的每一行都必须是正确的 json 字符串. 2. 找不到任何实体时, 输出\"没有找到任何实体\". \"\"\",\n",
    "                \"input\": f\"文本:{input_text}\",\n",
    "                \"output\": entity_sentence\n",
    "            }\n",
    "            messages.append(message)\n",
    "    with open(new_path, \"w\", encoding=\"utf-8\") as f:\n",
    "        for message in messages:\n",
    "            f.write(json.dumps(message, ensure_ascii=False) + \"\\n\")\n",
    "\n",
    "def process_func(example):\n",
    "    MAX_LENGTH = 384\n",
    "    input_ids, attention_mask, labels = [], [], []\n",
    "\n",
    "    instruction = tokenizer.apply_chat_template(\n",
    "        conversation=[\n",
    "            {\"role\": \"user\", \"content\": example[\"instruction\"]},\n",
    "            {\"role\": \"user\", \"content\": example[\"input\"]},\n",
    "        ],\n",
    "        add_generation_prompt=True,\n",
    "        tokenize=False,\n",
    "    )\n",
    "    instruction = tokenizer(instruction, add_special_tokens=False)\n",
    "    response = tokenizer(example[\"output\"] + tokenizer.eos_token, add_special_tokens=False)\n",
    "    input_ids = instruction[\"input_ids\"] + response[\"input_ids\"]\n",
    "    attention_mask = instruction[\"attention_mask\"] + response[\"attention_mask\"]\n",
    "    labels = [-100] * len(instruction[\"input_ids\"]) + response[\"input_ids\"]\n",
    "    if len(input_ids) > MAX_LENGTH:\n",
    "        input_ids = input_ids[:MAX_LENGTH]\n",
    "        attention_mask = attention_mask[:MAX_LENGTH]\n",
    "        labels = labels[:MAX_LENGTH]\n",
    "    return {\n",
    "        \"input_ids\": input_ids,\n",
    "        \"attention_mask\": attention_mask,\n",
    "        \"labels\": labels,\n",
    "    }\n",
    "\n",
    "def predict(message, model, tokenizer):\n",
    "    inputs = tokenizer.apply_chat_template(\n",
    "        conversation=[\n",
    "            {\"role\": \"user\", \"content\": message[\"instruction\"]},\n",
    "            {\"role\": \"user\", \"content\": message[\"input\"]},\n",
    "        ],\n",
    "        add_generation_prompt=True,\n",
    "        tokenize=False,\n",
    "    )\n",
    "    inputs = tokenizer(inputs, return_tensors=\"pt\").to(model.device)\n",
    "    generation_output = model.generate(**inputs, max_new_tokens=512)\n",
    "    outputs = generation_output[0][inputs[\"input_ids\"].shape[1]:]\n",
    "    response = tokenizer.decode(outputs, skip_special_tokens=True)\n",
    "    return response"
   ]
  },
  {
   "cell_type": "markdown",
   "id": "006af584-b72c-4859-8613-30100715e91a",
   "metadata": {},
   "source": [
    "## 构造数据集"
   ]
  },
  {
   "cell_type": "code",
   "execution_count": null,
   "id": "19b12d4c-557c-4431-ae13-d6c874db8835",
   "metadata": {},
   "outputs": [],
   "source": [
    "if not os.path.exists(dataset_new_path):\n",
    "    dataset_transfer(dataset_path, dataset_new_path)\n",
    "train_dataset = load_dataset(\"json\", data_files=dataset_new_path)\n",
    "train_dataset = train_dataset.map(process_func, remove_columns=train_dataset[\"train\"].column_names)"
   ]
  },
  {
   "cell_type": "markdown",
   "id": "55b99007-b356-4158-b35a-6b4ac40c8c96",
   "metadata": {},
   "source": [
    "## 构造LoRA模型"
   ]
  },
  {
   "cell_type": "code",
   "execution_count": null,
   "id": "3228487a-2853-45bc-8572-703a0fc8e6aa",
   "metadata": {},
   "outputs": [],
   "source": [
    "from peft import LoraConfig, get_peft_model, TaskType\n",
    "config = LoraConfig(\n",
    "    task_type=TaskType.CAUSAL_LM,\n",
    "    target_modules=[\"q_proj\",  \"k_proj\", \"v_proj\", \"o_proj\", \"gate_proj\", \"up_proj\", \"down_proj\"],\n",
    "    r=8,\n",
    "    lora_alpha=32,\n",
    "    lora_dropout=0.1\n",
    ")\n",
    "model = get_peft_model(model, config)\n",
    "model.print_trainable_parameters()"
   ]
  },
  {
   "cell_type": "markdown",
   "id": "15b51c43-e34a-4da6-8255-efec1a0aea4e",
   "metadata": {},
   "source": [
    "## 训练"
   ]
  },
  {
   "cell_type": "code",
   "execution_count": null,
   "id": "0f7bfbca-f7d3-4207-97e7-af411fbd2c19",
   "metadata": {},
   "outputs": [],
   "source": [
    "from transformers.data.data_collator import DataCollatorForSeq2Seq\n",
    "args = TrainingArguments(\n",
    "    output_dir=\"./output/Qwen2-NER\",\n",
    "    per_device_train_batch_size=4,\n",
    "    per_device_eval_batch_size=4,\n",
    "    gradient_accumulation_steps=4,\n",
    "    logging_steps=100,\n",
    "    num_train_epochs=2,\n",
    "    save_steps=100,\n",
    "    learning_rate=1e-4,\n",
    "    gradient_checkpointing=True,\n",
    "    save_on_each_node=True,\n",
    "    report_to=\"none\",\n",
    ")\n",
    "\n",
    "trainer = Trainer(\n",
    "    model=model,\n",
    "    args=args,\n",
    "    train_dataset=train_dataset[\"train\"],\n",
    "    data_collator=DataCollatorForSeq2Seq(tokenizer),\n",
    ")\n",
    "\n",
    "trainer.train()"
   ]
  },
  {
   "cell_type": "markdown",
   "id": "21ce5937-3ac8-4754-ab4b-d1658f8f1f9d",
   "metadata": {},
   "source": [
    "## 抽样展示结果"
   ]
  },
  {
   "cell_type": "code",
   "execution_count": null,
   "id": "cfbe75f6-40ef-4bc4-abdc-a7c0d50b963f",
   "metadata": {},
   "outputs": [],
   "source": [
    "import pandas as pd\n",
    "model.eval()\n",
    "df = pd.read_json(dataset_new_path, lines=True)\n",
    "test_df = df[:int(len(df) * 0.1)].sample(20)\n",
    "for index, row in test_df.iterrows():\n",
    "    response = predict(row, model, tokenizer)\n",
    "    print(response)"
   ]
  }
 ],
 "metadata": {
  "kernelspec": {
   "display_name": "Python 3 (ipykernel)",
   "language": "python",
   "name": "python3"
  },
  "language_info": {
   "codemirror_mode": {
    "name": "ipython",
    "version": 3
   },
   "file_extension": ".py",
   "mimetype": "text/x-python",
   "name": "python",
   "nbconvert_exporter": "python",
   "pygments_lexer": "ipython3",
   "version": "3.12.3"
  }
 },
 "nbformat": 4,
 "nbformat_minor": 5
}
